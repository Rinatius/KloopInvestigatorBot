{
 "cells": [
  {
   "cell_type": "code",
   "execution_count": 1,
   "metadata": {},
   "outputs": [],
   "source": [
    "import lambda_function"
   ]
  },
  {
   "cell_type": "code",
   "execution_count": 4,
   "metadata": {},
   "outputs": [],
   "source": [
    "context = None\n",
    "event = {\n",
    "  \"body\": \"{\\\"query\\\":\\\"тендер на канцтовары\\\", \\\"user\\\":\\\"6jjkpo7\\\"}\",\n",
    "  \"resource\": \"/{proxy+}\",\n",
    "  \"requestContext\": {\n",
    "    \"resourceId\": \"123456\",\n",
    "    \"apiId\": \"1234567890\",\n",
    "    \"resourcePath\": \"/{proxy+}\",\n",
    "    \"httpMethod\": \"POST\",\n",
    "    \"requestId\": \"c6af9ac6-7b61-11e6-9a41-93e8deadbeef\",\n",
    "    \"accountId\": \"123456789012\",\n",
    "    \"identity\": {\n",
    "      \"apiKey\": None,\n",
    "      \"userArn\": None,\n",
    "      \"cognitoAuthenticationType\": None,\n",
    "      \"caller\": None,\n",
    "      \"userAgent\": \"Custom User Agent String\",\n",
    "      \"user\": None,\n",
    "      \"cognitoIdentityPoolId\": None,\n",
    "      \"cognitoIdentityId\": None,\n",
    "      \"cognitoAuthenticationProvider\": None,\n",
    "      \"sourceIp\": \"127.0.0.1\",\n",
    "      \"accountId\": None\n",
    "    },\n",
    "    \"stage\": \"prod\"\n",
    "  },\n",
    "  \"queryStringParameters\": {\n",
    "    \"text\": \"It is working!\"\n",
    "  },\n",
    "  \"headers\": {\n",
    "    \"Via\": \"1.1 08f323deadbeefa7af34d5feb414ce27.cloudfront.net (CloudFront)\",\n",
    "    \"Accept-Language\": \"en-US,en;q=0.8\",\n",
    "    \"CloudFront-Is-Desktop-Viewer\": \"true\",\n",
    "    \"CloudFront-Is-SmartTV-Viewer\": \"false\",\n",
    "    \"CloudFront-Is-Mobile-Viewer\": \"false\",\n",
    "    \"X-Forwarded-For\": \"127.0.0.1, 127.0.0.2\",\n",
    "    \"CloudFront-Viewer-Country\": \"US\",\n",
    "    \"Accept\": \"text/html,application/xhtml+xml,application/xml;q=0.9,image/webp,*/*;q=0.8\",\n",
    "    \"Upgrade-Insecure-Requests\": \"1\",\n",
    "    \"X-Forwarded-Port\": \"443\",\n",
    "    \"Host\": \"1234567890.execute-api.us-east-1.amazonaws.com\",\n",
    "    \"X-Forwarded-Proto\": \"https\",\n",
    "    \"X-Amz-Cf-Id\": \"cDehVQoZnx43VYQb9j2-nvCh-9z396Uhbp027Y2JvkCPNLmGJHqlaA==\",\n",
    "    \"CloudFront-Is-Tablet-Viewer\": \"false\",\n",
    "    \"Cache-Control\": \"max-age=0\",\n",
    "    \"User-Agent\": \"Custom User Agent String\",\n",
    "    \"CloudFront-Forwarded-Proto\": \"https\",\n",
    "    \"Accept-Encoding\": \"gzip, deflate, sdch\"\n",
    "  },\n",
    "  \"pathParameters\": {\n",
    "    \"proxy\": \"path/to/resource\"\n",
    "  },\n",
    "  \"httpMethod\": \"POST\",\n",
    "  \"stageVariables\": {\n",
    "    \"baz\": \"qux\"\n",
    "  },\n",
    "  \"path\": \"/path/to/resource\"\n",
    "}"
   ]
  },
  {
   "cell_type": "code",
   "execution_count": 5,
   "metadata": {},
   "outputs": [
    {
     "name": "stdout",
     "output_type": "stream",
     "text": [
      "{'body': '{\"query\":\"тендер на канцтовары\", \"user\":\"6jjkpo7\"}', 'resource': '/{proxy+}', 'requestContext': {'resourceId': '123456', 'apiId': '1234567890', 'resourcePath': '/{proxy+}', 'httpMethod': 'POST', 'requestId': 'c6af9ac6-7b61-11e6-9a41-93e8deadbeef', 'accountId': '123456789012', 'identity': {'apiKey': None, 'userArn': None, 'cognitoAuthenticationType': None, 'caller': None, 'userAgent': 'Custom User Agent String', 'user': None, 'cognitoIdentityPoolId': None, 'cognitoIdentityId': None, 'cognitoAuthenticationProvider': None, 'sourceIp': '127.0.0.1', 'accountId': None}, 'stage': 'prod'}, 'queryStringParameters': {'text': 'It is working!'}, 'headers': {'Via': '1.1 08f323deadbeefa7af34d5feb414ce27.cloudfront.net (CloudFront)', 'Accept-Language': 'en-US,en;q=0.8', 'CloudFront-Is-Desktop-Viewer': 'true', 'CloudFront-Is-SmartTV-Viewer': 'false', 'CloudFront-Is-Mobile-Viewer': 'false', 'X-Forwarded-For': '127.0.0.1, 127.0.0.2', 'CloudFront-Viewer-Country': 'US', 'Accept': 'text/html,application/xhtml+xml,application/xml;q=0.9,image/webp,*/*;q=0.8', 'Upgrade-Insecure-Requests': '1', 'X-Forwarded-Port': '443', 'Host': '1234567890.execute-api.us-east-1.amazonaws.com', 'X-Forwarded-Proto': 'https', 'X-Amz-Cf-Id': 'cDehVQoZnx43VYQb9j2-nvCh-9z396Uhbp027Y2JvkCPNLmGJHqlaA==', 'CloudFront-Is-Tablet-Viewer': 'false', 'Cache-Control': 'max-age=0', 'User-Agent': 'Custom User Agent String', 'CloudFront-Forwarded-Proto': 'https', 'Accept-Encoding': 'gzip, deflate, sdch'}, 'pathParameters': {'proxy': 'path/to/resource'}, 'httpMethod': 'POST', 'stageVariables': {'baz': 'qux'}, 'path': '/path/to/resource'}\n",
      "       tender_num                                           org_name  \\\n",
      "0  17040347074816  Бешик-Жонский айыл Окмоту Бешик-Жонского айылн...   \n",
      "1  17040347514449                 Учреждение \"Войсковая часть 36806\"   \n",
      "2  17040347090555                                                      \n",
      "3  17040347491018                                                      \n",
      "4  17090669375615  Кара-Кульджинский филиал государственного пред...   \n",
      "\n",
      "                                            purchase plan_sum  \n",
      "0                      Покупка канцелярские товары .   97 333  \n",
      "1                хозяйственные и канцелярские товары  124 740  \n",
      "2  Канцелярские товары в Городской отдел образова...        0  \n",
      "3                      Канцелярские товары и прочее         0  \n",
      "4                               канцелярские товары     4 218  \n",
      "{'statusCode': 200, 'headers': {'Content-Type': 'application/json'}, 'body': {'info': '{\\n  \"text\": \"По вашему запросу найдено tender_num: всего5\\\\ntender_num: 17040347074816/norg_name: Бешик-Жонский айыл Окмоту Бешик-Жонского айылного аймака/npurchase: Покупка канцелярские товары ./nplan_sum: 97\\xa0333/n/ntender_num: 17040347514449/norg_name: Учреждение \\\\\"Войсковая часть 36806\\\\\"/npurchase: хозяйственные и канцелярские товары/nplan_sum: 124\\xa0740/n/ntender_num: 17040347090555/norg_name: /npurchase: Канцелярские товары в Городской отдел образования г Нарын(аппарат)/nplan_sum: 0/n/ntender_num: 17040347491018/norg_name: /npurchase: Канцелярские товары и прочее /nplan_sum: 0/n/ntender_num: 17090669375615/norg_name: Кара-Кульджинский филиал государственного предприятия Кыргызпочтасы/npurchase: канцелярские товары /nplan_sum: 4\\xa0218/n/n\"\\n}', 'service_messages': ''}}\n"
     ]
    }
   ],
   "source": [
    "print(lambda_function.lambda_handler(event, context))"
   ]
  },
  {
   "cell_type": "code",
   "execution_count": 10,
   "metadata": {},
   "outputs": [],
   "source": [
    "a = {'b': 'c'}"
   ]
  },
  {
   "cell_type": "code",
   "execution_count": 11,
   "metadata": {},
   "outputs": [],
   "source": [
    "a['d'] = {}"
   ]
  },
  {
   "cell_type": "code",
   "execution_count": 12,
   "metadata": {},
   "outputs": [],
   "source": [
    "a['d']['f'] = 'e'"
   ]
  },
  {
   "cell_type": "code",
   "execution_count": 13,
   "metadata": {},
   "outputs": [
    {
     "data": {
      "text/plain": [
       "{'b': 'c', 'd': {'f': 'e'}}"
      ]
     },
     "execution_count": 13,
     "metadata": {},
     "output_type": "execute_result"
    }
   ],
   "source": [
    "a"
   ]
  },
  {
   "cell_type": "code",
   "execution_count": null,
   "metadata": {},
   "outputs": [],
   "source": []
  }
 ],
 "metadata": {
  "kernelspec": {
   "display_name": "Python 3",
   "language": "python",
   "name": "python3"
  },
  "language_info": {
   "codemirror_mode": {
    "name": "ipython",
    "version": 3
   },
   "file_extension": ".py",
   "mimetype": "text/x-python",
   "name": "python",
   "nbconvert_exporter": "python",
   "pygments_lexer": "ipython3",
   "version": "3.6.7"
  }
 },
 "nbformat": 4,
 "nbformat_minor": 2
}
