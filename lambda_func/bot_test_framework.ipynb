{
 "cells": [
  {
   "cell_type": "code",
   "execution_count": 1,
   "metadata": {},
   "outputs": [],
   "source": [
    "\n",
    "import lambda_function"
   ]
  },
  {
   "cell_type": "code",
   "execution_count": 2,
   "metadata": {},
   "outputs": [],
   "source": [
    "context = None\n",
    "event = {\n",
    "  \"body\": \"{\\\"query\\\":\\\"ybrfrfz организации в Бишкек\\\"}\",\n",
    "  \"resource\": \"/{proxy+}\",\n",
    "  \"requestContext\": {\n",
    "    \"resourceId\": \"123456\",\n",
    "    \"apiId\": \"1234567890\",\n",
    "    \"resourcePath\": \"/{proxy+}\",\n",
    "    \"httpMethod\": \"POST\",\n",
    "    \"requestId\": \"c6af9ac6-7b61-11e6-9a41-93e8deadbeef\",\n",
    "    \"accountId\": \"123456789012\",\n",
    "    \"identity\": {\n",
    "      \"apiKey\": None,\n",
    "      \"userArn\": None,\n",
    "      \"cognitoAuthenticationType\": None,\n",
    "      \"caller\": None,\n",
    "      \"userAgent\": \"Custom User Agent String\",\n",
    "      \"user\": None,\n",
    "      \"cognitoIdentityPoolId\": None,\n",
    "      \"cognitoIdentityId\": None,\n",
    "      \"cognitoAuthenticationProvider\": None,\n",
    "      \"sourceIp\": \"127.0.0.1\",\n",
    "      \"accountId\": None\n",
    "    },\n",
    "    \"stage\": \"prod\"\n",
    "  },\n",
    "  \"queryStringParameters\": {\n",
    "    \"text\": \"It is working!\"\n",
    "  },\n",
    "  \"headers\": {\n",
    "    \"Via\": \"1.1 08f323deadbeefa7af34d5feb414ce27.cloudfront.net (CloudFront)\",\n",
    "    \"Accept-Language\": \"en-US,en;q=0.8\",\n",
    "    \"CloudFront-Is-Desktop-Viewer\": \"true\",\n",
    "    \"CloudFront-Is-SmartTV-Viewer\": \"false\",\n",
    "    \"CloudFront-Is-Mobile-Viewer\": \"false\",\n",
    "    \"X-Forwarded-For\": \"127.0.0.1, 127.0.0.2\",\n",
    "    \"CloudFront-Viewer-Country\": \"US\",\n",
    "    \"Accept\": \"text/html,application/xhtml+xml,application/xml;q=0.9,image/webp,*/*;q=0.8\",\n",
    "    \"Upgrade-Insecure-Requests\": \"1\",\n",
    "    \"X-Forwarded-Port\": \"443\",\n",
    "    \"Host\": \"1234567890.execute-api.us-east-1.amazonaws.com\",\n",
    "    \"X-Forwarded-Proto\": \"https\",\n",
    "    \"X-Amz-Cf-Id\": \"cDehVQoZnx43VYQb9j2-nvCh-9z396Uhbp027Y2JvkCPNLmGJHqlaA==\",\n",
    "    \"CloudFront-Is-Tablet-Viewer\": \"false\",\n",
    "    \"Cache-Control\": \"max-age=0\",\n",
    "    \"User-Agent\": \"Custom User Agent String\",\n",
    "    \"CloudFront-Forwarded-Proto\": \"https\",\n",
    "    \"Accept-Encoding\": \"gzip, deflate, sdch\"\n",
    "  },\n",
    "  \"pathParameters\": {\n",
    "    \"proxy\": \"path/to/resource\"\n",
    "  },\n",
    "  \"httpMethod\": \"POST\",\n",
    "  \"stageVariables\": {\n",
    "    \"baz\": \"qux\"\n",
    "  },\n",
    "  \"path\": \"/path/to/resource\"\n",
    "}"
   ]
  },
  {
   "cell_type": "code",
   "execution_count": 3,
   "metadata": {},
   "outputs": [
    {
     "name": "stdout",
     "output_type": "stream",
     "text": [
      "\n",
      "['Бишкек']\n",
      "                                          FullNameRu           Street  \\\n",
      "0  Открытое акциионерное общество\"КыргызВНИПИэнер...     ул. Медерова   \n",
      "1                   ОсОО Агрофирма \"Ак-Тилек Ко ЛТД\"       Жибек-Жолу   \n",
      "2   Благотворительный ОФ \"Помощь студентам г.Бишкек\"           пр.Чуй   \n",
      "3  Общественного Благотворительного Фонда Поддерж...            7.мрн   \n",
      "4                                         ОФ \"РАМПА\"     Дубовый парк   \n",
      "5  Благотворительный общественный фонд \"Педагоги ...     пр. Эркиндик   \n",
      "6  Общественное объединение грузинов \"Мзиури\" в К...  ул. Ш.Руставели   \n",
      "7  Общество с ограниченной ответственностью кыргы...       ул. Манаса   \n",
      "8  Совместное Кыргызско-Китайское общество с огра...     ул. Киевская   \n",
      "9                                        ОсОО \"ТИТА\"      Табышалиева   \n",
      "\n",
      "  Building Apartment                                           Founders  \\\n",
      "0       42      None             согласно документам 19-акционеров ф.л.   \n",
      "1      160      None  Джакшыбеков Жолдошбек, Абдырасулова Гулжамал А...   \n",
      "2    28-10      None  Салиев Борис Иванович, Шапаков Женишбек Кучкач...   \n",
      "3     6-16      None                         Толтоев Жусуп Айтмурзаевич   \n",
      "4     1-68      None   Балбекин Александр  Романович,  Гречанникова ...   \n",
      "5     25-7      None  граджане Кыргызской Республики (список прилага...   \n",
      "6       56    кв. 12  Гвинджилия Нугзар, Барямия Шукри, Султанишвили...   \n",
      "7        9      None  Фокеев Амир Петрович, Патрахин Александр Алекс...   \n",
      "8       96      None                                                      \n",
      "9    34-42      None  Тимофеев Владимир Александрович, Колесников Ст...   \n",
      "\n",
      "                                                 Url  \n",
      "0  http://register.minjust.gov.kg/register/Public...  \n",
      "1  http://register.minjust.gov.kg/register/Public...  \n",
      "2  http://register.minjust.gov.kg/register/Public...  \n",
      "3  http://register.minjust.gov.kg/register/Public...  \n",
      "4  http://register.minjust.gov.kg/register/Public...  \n",
      "5  http://register.minjust.gov.kg/register/Public...  \n",
      "6  http://register.minjust.gov.kg/register/Public...  \n",
      "7  http://register.minjust.gov.kg/register/Public...  \n",
      "8  http://register.minjust.gov.kg/register/Public...  \n",
      "9  http://register.minjust.gov.kg/register/Public...  \n",
      "{'statusCode': 200, 'headers': {'Content-Type': 'application/json'}, 'body': '{\\n  \"text\": \"По вашему запросу найдено FullNameRu: всего10\\\\nFullNameRu: Открытое акциионерное общество\\\\\"КыргызВНИПИэнергопром\\\\\"/nStreet: ул. Медерова/nBuilding: 42/nApartment: /nFounders: согласно документам 19-акционеров ф.л./nUrl: http://register.minjust.gov.kg/register/Public.seam?publicId=117212/n/nFullNameRu: ОсОО Агрофирма \\\\\"Ак-Тилек Ко ЛТД\\\\\"/nStreet: Жибек-Жолу/nBuilding: 160/nApartment: /nFounders: Джакшыбеков Жолдошбек, Абдырасулова Гулжамал Ажымудуновна, Телтаев Дюшебай Дербишалиевич, Артыкбаев Расул Саткынович/nUrl: http://register.minjust.gov.kg/register/Public.seam?publicId=28/n/nFullNameRu: Благотворительный ОФ \\\\\"Помощь студентам г.Бишкек\\\\\"/nStreet: пр.Чуй/nBuilding: 28-10/nApartment: /nFounders: Салиев Борис Иванович, Шапаков Женишбек Кучкачаевич, Васильева Галина Васильевна, Минбаев Доорбай Абдуллаевич, Акматов Женишбек Аманбекович, Жураев Кабылбек Таирович, Исаков Руслан Валерьевич, Бер Марина Викторовна, Мамытов Маданбек Бекибаевич, Ташбаев Учкун Ташбаевич/nUrl: http://register.minjust.gov.kg/register/Public.seam?publicId=47/n/nFullNameRu: Общественного Благотворительного Фонда Поддержки \\xa0Эстрадно- Циркового Искусства (ФПЭЦИ) \\\\\"АРЕНА\\\\\"/nStreet: 7.мрн/nBuilding: 6-16/nApartment: /nFounders: Толтоев Жусуп Айтмурзаевич/nUrl: http://register.minjust.gov.kg/register/Public.seam?publicId=307/n/nFullNameRu: ОФ \\\\\"РАМПА\\\\\"/nStreet: Дубовый парк/nBuilding: 1-68/nApartment: /nFounders: \\xa0Балбекин Александр \\xa0Романович, \\xa0Гречанникова Вера Александровна, \\xa0Гречанников Василий Николаевич, \\xa0Бондаренко Владимер Викторович/nUrl: http://register.minjust.gov.kg/register/Public.seam?publicId=317/n/nFullNameRu: Благотворительный общественный фонд \\\\\"Педагоги за гражданское общество\\\\\" (\\\\\"Фонд ПГО\\\\\")/nStreet: пр. Эркиндик/nBuilding: 25-7/nApartment: /nFounders: граджане Кыргызской Республики (список прилагается)/nUrl: http://register.minjust.gov.kg/register/Public.seam?publicId=365/n/nFullNameRu: Общественное объединение грузинов \\\\\"Мзиури\\\\\" в Кыргызской Республике/nStreet: ул. Ш.Руставели/nBuilding: 56/nApartment: кв. 12/nFounders: Гвинджилия Нугзар, Барямия Шукри, Султанишвили Владимир, Кутятелядзе Геннадий, Чхаидзе Владимир, Кавтырядзе Владимир, Декяляидзе Мата, Белкания Тенгиз, Чхяртишвили Гурям, Кутятелядзе Геннадий/nUrl: http://register.minjust.gov.kg/register/Public.seam?publicId=407/n/nFullNameRu: Общество с ограниченной ответственностью кыргызско-российское предприятие \\\\\"Витязь\\\\\"/nStreet: ул. Манаса/nBuilding: 9/nApartment: /nFounders: Фокеев Амир Петрович, Патрахин Александр Александрович, Карпасов Александр Викторович/nUrl: http://register.minjust.gov.kg/register/Public.seam?publicId=15107/n/nFullNameRu: Совместное Кыргызско-Китайское общество с ограниченной ответственностью \\\\\"ИНПРОС ШАРМ ЛТД\\\\\"/nStreet: ул. Киевская/nBuilding: 96/nApartment: /nFounders: /nUrl: http://register.minjust.gov.kg/register/Public.seam?publicId=520/n/nFullNameRu: ОсОО \\\\\"ТИТА\\\\\"/nStreet: Табышалиева/nBuilding: 34-42/nApartment: /nFounders: Тимофеев Владимир Александрович, Колесников Станислав Иванович/nUrl: http://register.minjust.gov.kg/register/Public.seam?publicId=71170/n/n\"\\n}'}\n"
     ]
    }
   ],
   "source": [
    "print(lambda_function.lambda_handler(event, context))"
   ]
  },
  {
   "cell_type": "code",
   "execution_count": null,
   "metadata": {},
   "outputs": [],
   "source": []
  },
  {
   "cell_type": "code",
   "execution_count": null,
   "metadata": {},
   "outputs": [],
   "source": []
  }
 ],
 "metadata": {
  "kernelspec": {
   "display_name": "Python 3",
   "language": "python",
   "name": "python3"
  },
  "language_info": {
   "codemirror_mode": {
    "name": "ipython",
    "version": 3
   },
   "file_extension": ".py",
   "mimetype": "text/x-python",
   "name": "python",
   "nbconvert_exporter": "python",
   "pygments_lexer": "ipython3",
   "version": "3.6.5"
  }
 },
 "nbformat": 4,
 "nbformat_minor": 2
}
