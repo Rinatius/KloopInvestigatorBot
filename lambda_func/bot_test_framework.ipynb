{
 "cells": [
  {
   "cell_type": "code",
   "execution_count": 1,
   "metadata": {},
   "outputs": [],
   "source": [
    "import json\n",
    "\n",
    "import lambda_function"
   ]
  },
  {
   "cell_type": "code",
   "execution_count": 2,
   "metadata": {},
   "outputs": [],
   "source": [
    "context = None\n",
    "event = {\n",
    "  \"body\": \"{\\\"query\\\":\\\"/sheets_on\\\", \\\"user\\\":\\\"1\\\"}\",\n",
    "  \"resource\": \"/{proxy+}\",\n",
    "  \"requestContext\": {\n",
    "    \"resourceId\": \"123456\",\n",
    "    \"apiId\": \"1234567890\",\n",
    "    \"resourcePath\": \"/{proxy+}\",\n",
    "    \"httpMethod\": \"POST\",\n",
    "    \"requestId\": \"c6af9ac6-7b61-11e6-9a41-93e8deadbeef\",\n",
    "    \"accountId\": \"123456789012\",\n",
    "    \"identity\": {\n",
    "      \"apiKey\": None,\n",
    "      \"userArn\": None,\n",
    "      \"cognitoAuthenticationType\": None,\n",
    "      \"caller\": None,\n",
    "      \"userAgent\": \"Custom User Agent String\",\n",
    "      \"user\": None,\n",
    "      \"cognitoIdentityPoolId\": None,\n",
    "      \"cognitoIdentityId\": None,\n",
    "      \"cognitoAuthenticationProvider\": None,\n",
    "      \"sourceIp\": \"127.0.0.1\",\n",
    "      \"accountId\": None\n",
    "    },\n",
    "    \"stage\": \"prod\"\n",
    "  },\n",
    "  \"queryStringParameters\": {\n",
    "    \"text\": \"It is working!\"\n",
    "  },\n",
    "  \"headers\": {\n",
    "    \"Via\": \"1.1 08f323deadbeefa7af34d5feb414ce27.cloudfront.net (CloudFront)\",\n",
    "    \"Accept-Language\": \"en-US,en;q=0.8\",\n",
    "    \"CloudFront-Is-Desktop-Viewer\": \"true\",\n",
    "    \"CloudFront-Is-SmartTV-Viewer\": \"false\",\n",
    "    \"CloudFront-Is-Mobile-Viewer\": \"false\",\n",
    "    \"X-Forwarded-For\": \"127.0.0.1, 127.0.0.2\",\n",
    "    \"CloudFront-Viewer-Country\": \"US\",\n",
    "    \"Accept\": \"text/html,application/xhtml+xml,application/xml;q=0.9,image/webp,*/*;q=0.8\",\n",
    "    \"Upgrade-Insecure-Requests\": \"1\",\n",
    "    \"X-Forwarded-Port\": \"443\",\n",
    "    \"Host\": \"1234567890.execute-api.us-east-1.amazonaws.com\",\n",
    "    \"X-Forwarded-Proto\": \"https\",\n",
    "    \"X-Amz-Cf-Id\": \"cDehVQoZnx43VYQb9j2-nvCh-9z396Uhbp027Y2JvkCPNLmGJHqlaA==\",\n",
    "    \"CloudFront-Is-Tablet-Viewer\": \"false\",\n",
    "    \"Cache-Control\": \"max-age=0\",\n",
    "    \"User-Agent\": \"Custom User Agent String\",\n",
    "    \"CloudFront-Forwarded-Proto\": \"https\",\n",
    "    \"Accept-Encoding\": \"gzip, deflate, sdch\"\n",
    "  },\n",
    "  \"pathParameters\": {\n",
    "    \"proxy\": \"path/to/resource\"\n",
    "  },\n",
    "  \"httpMethod\": \"POST\",\n",
    "  \"stageVariables\": {\n",
    "    \"baz\": \"qux\"\n",
    "  },\n",
    "  \"path\": \"/path/to/resource\"\n",
    "}"
   ]
  },
  {
   "cell_type": "code",
   "execution_count": 3,
   "metadata": {},
   "outputs": [
    {
     "name": "stdout",
     "output_type": "stream",
     "text": [
      "------Event from user received------\n",
      "{'body': '{\"query\":\"/sheets_on\", \"user\":\"1\"}', 'resource': '/{proxy+}', 'requestContext': {'resourceId': '123456', 'apiId': '1234567890', 'resourcePath': '/{proxy+}', 'httpMethod': 'POST', 'requestId': 'c6af9ac6-7b61-11e6-9a41-93e8deadbeef', 'accountId': '123456789012', 'identity': {'apiKey': None, 'userArn': None, 'cognitoAuthenticationType': None, 'caller': None, 'userAgent': 'Custom User Agent String', 'user': None, 'cognitoIdentityPoolId': None, 'cognitoIdentityId': None, 'cognitoAuthenticationProvider': None, 'sourceIp': '127.0.0.1', 'accountId': None}, 'stage': 'prod'}, 'queryStringParameters': {'text': 'It is working!'}, 'headers': {'Via': '1.1 08f323deadbeefa7af34d5feb414ce27.cloudfront.net (CloudFront)', 'Accept-Language': 'en-US,en;q=0.8', 'CloudFront-Is-Desktop-Viewer': 'true', 'CloudFront-Is-SmartTV-Viewer': 'false', 'CloudFront-Is-Mobile-Viewer': 'false', 'X-Forwarded-For': '127.0.0.1, 127.0.0.2', 'CloudFront-Viewer-Country': 'US', 'Accept': 'text/html,application/xhtml+xml,application/xml;q=0.9,image/webp,*/*;q=0.8', 'Upgrade-Insecure-Requests': '1', 'X-Forwarded-Port': '443', 'Host': '1234567890.execute-api.us-east-1.amazonaws.com', 'X-Forwarded-Proto': 'https', 'X-Amz-Cf-Id': 'cDehVQoZnx43VYQb9j2-nvCh-9z396Uhbp027Y2JvkCPNLmGJHqlaA==', 'CloudFront-Is-Tablet-Viewer': 'false', 'Cache-Control': 'max-age=0', 'User-Agent': 'Custom User Agent String', 'CloudFront-Forwarded-Proto': 'https', 'Accept-Encoding': 'gzip, deflate, sdch'}, 'pathParameters': {'proxy': 'path/to/resource'}, 'httpMethod': 'POST', 'stageVariables': {'baz': 'qux'}, 'path': '/path/to/resource'}\n",
      "--------Entered sheets_on function----------------\n",
      "--------Genrated auth link----------------\n",
      "['Пожалуйста перейдите по этой ссылке, чтобы дать боту разрешение записывать результаты поиска намрямую в вашу Гугл-таблицу.', 'https://accounts.google.com/o/oauth2/auth?response_type=code&client_id=611576876249-1eo2685r40seuivom7reochlcm9nli0i.apps.googleusercontent.com&redirect_uri=https%3A%2F%2F6vqfym8qgg.execute-api.us-east-1.amazonaws.com%2Fdefault%2FgApiAuth&scope=https%3A%2F%2Fwww.googleapis.com%2Fauth%2Fdrive.file&state=%7B%22id%22%3A+%221%22%2C+%22salt%22%3A+%22%246%243YM57aicXf18WbdG%22%7D&access_type=offline&include_granted_scopes=true']\n",
      "{'statusCode': 200, 'headers': {'Content-Type': 'application/json'}, 'body': {'info': {'text': ['Пожалуйста перейдите по этой ссылке, чтобы дать боту разрешение записывать результаты поиска намрямую в вашу Гугл-таблицу.', 'https://accounts.google.com/o/oauth2/auth?response_type=code&client_id=611576876249-1eo2685r40seuivom7reochlcm9nli0i.apps.googleusercontent.com&redirect_uri=https%3A%2F%2F6vqfym8qgg.execute-api.us-east-1.amazonaws.com%2Fdefault%2FgApiAuth&scope=https%3A%2F%2Fwww.googleapis.com%2Fauth%2Fdrive.file&state=%7B%22id%22%3A+%221%22%2C+%22salt%22%3A+%22%246%243YM57aicXf18WbdG%22%7D&access_type=offline&include_granted_scopes=true']}, 'service_messages': {'service_buttons': set(), 'service_texts': set()}}}\n"
     ]
    }
   ],
   "source": [
    "print(lambda_function.lambda_handler(event, context))"
   ]
  },
  {
   "cell_type": "code",
   "execution_count": null,
   "metadata": {},
   "outputs": [],
   "source": []
  }
 ],
 "metadata": {
  "kernelspec": {
   "display_name": "Python 3",
   "language": "python",
   "name": "python3"
  },
  "language_info": {
   "codemirror_mode": {
    "name": "ipython",
    "version": 3
   },
   "file_extension": ".py",
   "mimetype": "text/x-python",
   "name": "python",
   "nbconvert_exporter": "python",
   "pygments_lexer": "ipython3",
   "version": "3.6.7"
  }
 },
 "nbformat": 4,
 "nbformat_minor": 2
}
